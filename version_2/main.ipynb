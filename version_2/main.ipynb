{
 "cells": [
  {
   "cell_type": "code",
   "execution_count": 1,
   "id": "7879773b-c886-44a4-96f9-769b09b60c12",
   "metadata": {},
   "outputs": [],
   "source": [
    "import openai\n",
    "import os\n",
    "\n",
    "from langchain.embeddings.openai import OpenAIEmbeddings\n",
    "from langchain.chat_models import ChatOpenAI\n",
    "\n",
    "from settings import openai_config\n",
    "from functions import create_retriever,print_latest_exchange\n",
    "from conversationalqa import ConversationalQA\n",
    "\n",
    "# from langchain.document_loaders import PyPDFLoader\n",
    "# from langchain.text_splitter import RecursiveCharacterTextSplitter\n",
    "# from langchain.embeddings.openai import OpenAIEmbeddings\n",
    "# from langchain.vectorstores import Chroma"
   ]
  },
  {
   "cell_type": "code",
   "execution_count": 7,
   "id": "a4c3cc04-c839-4525-8ec1-77e2342c4655",
   "metadata": {},
   "outputs": [],
   "source": [
    "llm_embedding = OpenAIEmbeddings(api_key=openai_config['API-KEY'])\n",
    "context_retriever = create_retriever(llm_embedding, store_search_type='similarity')"
   ]
  },
  {
   "cell_type": "code",
   "execution_count": 8,
   "id": "cf69e159-9a86-4349-8b99-c64c565844de",
   "metadata": {},
   "outputs": [],
   "source": [
    "chat_llm = ChatOpenAI(temperature=0.2, api_key=openai_config['API-KEY'])\n",
    "qa_system =ConversationalQA(chat_llm,context_retriever)"
   ]
  },
  {
   "cell_type": "markdown",
   "id": "b49b61bd-d80d-4044-980b-5a22b40bfb66",
   "metadata": {},
   "source": [
    "## **Chatting with the System**"
   ]
  },
  {
   "cell_type": "code",
   "execution_count": 9,
   "id": "e44be3cf-854c-4e10-8541-489ca1346632",
   "metadata": {},
   "outputs": [
    {
     "name": "stdout",
     "output_type": "stream",
     "text": [
      "human: How many spider people are in 'Into the Spiderverse?'\n",
      "\n",
      "====================================================================+=====================================\n",
      "ai: There are two spider people in the movie 'Into the Spiderverse'.\n",
      "\n"
     ]
    }
   ],
   "source": [
    "input = {\"question\": \"How many spider people are in 'Into the Spiderverse?'\"}\n",
    "conversation_log = qa_system.conversation_log(input)\n",
    "print_latest_exchange(conversation_log)"
   ]
  },
  {
   "cell_type": "code",
   "execution_count": 10,
   "id": "f682f773-e770-4e79-9246-3c51bb50bcac",
   "metadata": {},
   "outputs": [
    {
     "name": "stdout",
     "output_type": "stream",
     "text": [
      "human: Can you name them?\n",
      "\n",
      "====================================================================+=====================================\n",
      "ai: The names of the spider people in the movie 'Into the Spiderverse' are Miles Morales and Peter Parker.\n",
      "\n"
     ]
    }
   ],
   "source": [
    "input = {\"question\": \"Can you name them?\"}\n",
    "conversation_log = qa_system.conversation_log(input)\n",
    "print_latest_exchange(conversation_log)"
   ]
  },
  {
   "cell_type": "code",
   "execution_count": 11,
   "id": "bb7a2039-6f95-4f09-abfe-33a3ddd04b63",
   "metadata": {},
   "outputs": [
    {
     "name": "stdout",
     "output_type": "stream",
     "text": [
      "human: Are you sure there are no other spider powered people in the movie?\n",
      "\n",
      "====================================================================+=====================================\n",
      "ai: No, I am not certain that there are no additional individuals with spider powers in the film 'Into the Spiderverse'.\n",
      "\n"
     ]
    }
   ],
   "source": [
    "input = {\"question\": \"Are you sure there are no other spider powered people in the movie?\"}\n",
    "conversation_log = qa_system.conversation_log(input)\n",
    "print_latest_exchange(conversation_log)"
   ]
  },
  {
   "cell_type": "code",
   "execution_count": 14,
   "id": "b268f15f-f066-43ef-adca-73c71d0de0e8",
   "metadata": {},
   "outputs": [
    {
     "name": "stdout",
     "output_type": "stream",
     "text": [
      "human: Who is the main antagonist in the Lion King?'\n",
      "\n",
      "====================================================================+=====================================\n",
      "ai: The main antagonist in the movie 'The Lion King' is Scar.\n",
      "\n"
     ]
    }
   ],
   "source": [
    "input = {\"question\": \"Who is the main antagonist in the Lion King?'\"}\n",
    "conversation_log = qa_system.conversation_log(input)\n",
    "print_latest_exchange(conversation_log)"
   ]
  },
  {
   "cell_type": "code",
   "execution_count": 15,
   "id": "8276fa1f-a60e-47d8-94bc-ad518c14469a",
   "metadata": {},
   "outputs": [
    {
     "name": "stdout",
     "output_type": "stream",
     "text": [
      "human: Who is the main protagonist in the Lion King?'\n",
      "\n",
      "====================================================================+=====================================\n",
      "ai: The main protagonist in the movie 'The Lion King' is Simba.\n",
      "\n"
     ]
    }
   ],
   "source": [
    "input = {\"question\": \"Who is the main protagonist in the Lion King?'\"}\n",
    "conversation_log = qa_system.conversation_log(input)\n",
    "print_latest_exchange(conversation_log)"
   ]
  },
  {
   "cell_type": "code",
   "execution_count": 18,
   "id": "531d7bae-4478-4ce8-8b1f-3cd7bf354efb",
   "metadata": {},
   "outputs": [
    {
     "name": "stdout",
     "output_type": "stream",
     "text": [
      "human: What is the nature of the relationship between Simba and Scar?'\n",
      "\n",
      "====================================================================+=====================================\n",
      "ai: The nature of the relationship between Simba and Scar in the movie 'The Lion King' is that Scar is Simba's uncle.\n",
      "\n"
     ]
    }
   ],
   "source": [
    "input = {\"question\": \"What is the nature of the relationship between Simba and Scar?'\"}\n",
    "conversation_log = qa_system.conversation_log(input)\n",
    "print_latest_exchange(conversation_log)"
   ]
  },
  {
   "cell_type": "code",
   "execution_count": 19,
   "id": "ca80201f-ac13-4b91-897a-730f84b148a7",
   "metadata": {},
   "outputs": [
    {
     "name": "stdout",
     "output_type": "stream",
     "text": [
      "human: Who are Simba's parents?'\n",
      "\n",
      "====================================================================+=====================================\n",
      "ai: Simba's parents are Mufasa and an unknown mother.\n",
      "\n"
     ]
    }
   ],
   "source": [
    "input = {\"question\": \"Who are Simba's parents?'\"}\n",
    "conversation_log = qa_system.conversation_log(input)\n",
    "print_latest_exchange(conversation_log)"
   ]
  },
  {
   "cell_type": "code",
   "execution_count": null,
   "id": "4d444703-81d7-44b8-b403-84e63d0b11d3",
   "metadata": {},
   "outputs": [],
   "source": []
  }
 ],
 "metadata": {
  "kernelspec": {
   "display_name": "Python 3 (ipykernel)",
   "language": "python",
   "name": "python3"
  },
  "language_info": {
   "codemirror_mode": {
    "name": "ipython",
    "version": 3
   },
   "file_extension": ".py",
   "mimetype": "text/x-python",
   "name": "python",
   "nbconvert_exporter": "python",
   "pygments_lexer": "ipython3",
   "version": "3.10.13"
  }
 },
 "nbformat": 4,
 "nbformat_minor": 5
}
