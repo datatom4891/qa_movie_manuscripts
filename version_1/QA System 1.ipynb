{
 "cells": [
  {
   "cell_type": "code",
   "execution_count": 1,
   "id": "f0130e0c-6ed6-4d3c-a3c1-bdaa9d10d7ed",
   "metadata": {},
   "outputs": [],
   "source": [
    "import os\n",
    "from brain import instantiate_chatbot\n",
    "from vector_db import create_vector_store"
   ]
  },
  {
   "cell_type": "code",
   "execution_count": 2,
   "id": "37797c33-fbd0-4b9e-95cf-7218da0a66ab",
   "metadata": {},
   "outputs": [
    {
     "name": "stdout",
     "output_type": "stream",
     "text": [
      "Vector store already exists\n",
      "Loading pre-existing vector store into memory...\n"
     ]
    }
   ],
   "source": [
    "vectordb = create_vector_store()\n",
    "retriever = vectordb.as_retriever()\n",
    "chatbot = instantiate_chatbot(retriever)"
   ]
  },
  {
   "cell_type": "code",
   "execution_count": 3,
   "id": "55fdf9d3-31d7-42b6-8580-18e875f5deec",
   "metadata": {},
   "outputs": [
    {
     "name": "stdout",
     "output_type": "stream",
     "text": [
      "There are multiple spider people in 'Into the Spiderverse,' but the exact number is not specified in the given context.\n",
      "----------------------------------------\n",
      "[HumanMessage(content=\"How many spider people are in 'Into the Spiderverse?'\"), AIMessage(content=\"There are multiple spider people in 'Into the Spiderverse,' but the exact number is not specified in the given context.\")]\n"
     ]
    }
   ],
   "source": [
    "question = \"How many spider people are in 'Into the Spiderverse?'\"\n",
    "result = chatbot({\"question\": question})\n",
    "print(result['answer'])\n",
    "print(\"----------------------------------------\")\n",
    "print(result['chat_history'])"
   ]
  },
  {
   "cell_type": "code",
   "execution_count": 4,
   "id": "483652b2-4f47-40e8-bf34-70e46c0b0668",
   "metadata": {},
   "outputs": [
    {
     "name": "stdout",
     "output_type": "stream",
     "text": [
      "There are multiple spider people in 'Into the Spiderverse,' but the exact number is not specified in the given context.\n",
      "----------------------------------------\n",
      "[HumanMessage(content=\"How many spider people are in 'Into the Spiderverse?'\"), AIMessage(content=\"There are multiple spider people in 'Into the Spiderverse,' but the exact number is not specified in the given context.\"), HumanMessage(content=\"How many spider people are in 'Into the Spiderverse?'\"), AIMessage(content=\"The exact number of Spider people in 'Into the Spiderverse' is six.\")]\n"
     ]
    }
   ],
   "source": [
    "question1 = \"Do you know Mile's mother's name'\"\n",
    "result1 = chatbot({\"question\": question})\n",
    "print(result['answer'])\n",
    "print(\"----------------------------------------\")\n",
    "print(result['chat_history'])"
   ]
  },
  {
   "cell_type": "code",
   "execution_count": 5,
   "id": "fb25f188-4474-488e-bce0-432156e2f6bf",
   "metadata": {},
   "outputs": [
    {
     "name": "stdout",
     "output_type": "stream",
     "text": [
      "There are multiple spider people in 'Into the Spiderverse,' but the exact number is not specified in the given context.\n",
      "----------------------------------------\n",
      "[HumanMessage(content=\"How many spider people are in 'Into the Spiderverse?'\"), AIMessage(content=\"There are multiple spider people in 'Into the Spiderverse,' but the exact number is not specified in the given context.\"), HumanMessage(content=\"How many spider people are in 'Into the Spiderverse?'\"), AIMessage(content=\"The exact number of Spider people in 'Into the Spiderverse' is six.\"), HumanMessage(content=\"How many spider people are in 'Into the Spiderverse?'\"), AIMessage(content=\"The exact number of Spider people in 'Into the Spiderverse' is six.\")]\n"
     ]
    }
   ],
   "source": [
    "question1 = \"Name the 7 spider people in the movie\"\n",
    "result1 = chatbot({\"question\": question})\n",
    "print(result['answer'])\n",
    "print(\"----------------------------------------\")\n",
    "print(result['chat_history'])"
   ]
  },
  {
   "cell_type": "code",
   "execution_count": 6,
   "id": "6a88172f-8202-4189-af53-6b7bf1e9652d",
   "metadata": {},
   "outputs": [
    {
     "name": "stdout",
     "output_type": "stream",
     "text": [
      "Nala is a character in the context provided. She is a friend of Simba and they have a playful interaction in the scene.\n",
      "----------------------------------------\n",
      "[HumanMessage(content=\"How many spider people are in 'Into the Spiderverse?'\"), AIMessage(content=\"There are multiple spider people in 'Into the Spiderverse,' but the exact number is not specified in the given context.\"), HumanMessage(content=\"How many spider people are in 'Into the Spiderverse?'\"), AIMessage(content=\"The exact number of Spider people in 'Into the Spiderverse' is six.\"), HumanMessage(content=\"How many spider people are in 'Into the Spiderverse?'\"), AIMessage(content=\"The exact number of Spider people in 'Into the Spiderverse' is six.\"), HumanMessage(content='Who is Nala?'), AIMessage(content='Nala is a character in the context provided. She is a friend of Simba and they have a playful interaction in the scene.')]\n"
     ]
    }
   ],
   "source": [
    "question = \"Who is Nala?\"\n",
    "result = chatbot({\"question\": question})\n",
    "print(result['answer'])\n",
    "print(\"----------------------------------------\")\n",
    "print(result['chat_history'])"
   ]
  },
  {
   "cell_type": "code",
   "execution_count": 7,
   "id": "8da883a2-18ad-46f2-9ba2-09b2ca0c663d",
   "metadata": {},
   "outputs": [
    {
     "name": "stdout",
     "output_type": "stream",
     "text": [
      "Simba's friends are Timon and Pumbaa.\n",
      "----------------------------------------\n",
      "[HumanMessage(content=\"How many spider people are in 'Into the Spiderverse?'\"), AIMessage(content=\"There are multiple spider people in 'Into the Spiderverse,' but the exact number is not specified in the given context.\"), HumanMessage(content=\"How many spider people are in 'Into the Spiderverse?'\"), AIMessage(content=\"The exact number of Spider people in 'Into the Spiderverse' is six.\"), HumanMessage(content=\"How many spider people are in 'Into the Spiderverse?'\"), AIMessage(content=\"The exact number of Spider people in 'Into the Spiderverse' is six.\"), HumanMessage(content='Who is Nala?'), AIMessage(content='Nala is a character in the context provided. She is a friend of Simba and they have a playful interaction in the scene.'), HumanMessage(content=\"Who are Simba's friends?\"), AIMessage(content=\"Simba's friends are Timon and Pumbaa.\")]\n"
     ]
    }
   ],
   "source": [
    "question = \"Who are Simba's friends?\"\n",
    "result = chatbot({\"question\": question})\n",
    "print(result['answer'])\n",
    "print(\"----------------------------------------\")\n",
    "print(result['chat_history'])"
   ]
  },
  {
   "cell_type": "code",
   "execution_count": 8,
   "id": "7720ea1e-4bff-4cd0-b553-fa54d8e4959e",
   "metadata": {},
   "outputs": [
    {
     "name": "stdout",
     "output_type": "stream",
     "text": [
      "Timon and Pumbaa are a meerkat and a warthog, respectively.\n",
      "----------------------------------------\n",
      "[HumanMessage(content=\"How many spider people are in 'Into the Spiderverse?'\"), AIMessage(content=\"There are multiple spider people in 'Into the Spiderverse,' but the exact number is not specified in the given context.\"), HumanMessage(content=\"How many spider people are in 'Into the Spiderverse?'\"), AIMessage(content=\"The exact number of Spider people in 'Into the Spiderverse' is six.\"), HumanMessage(content=\"How many spider people are in 'Into the Spiderverse?'\"), AIMessage(content=\"The exact number of Spider people in 'Into the Spiderverse' is six.\"), HumanMessage(content='Who is Nala?'), AIMessage(content='Nala is a character in the context provided. She is a friend of Simba and they have a playful interaction in the scene.'), HumanMessage(content=\"Who are Simba's friends?\"), AIMessage(content=\"Simba's friends are Timon and Pumbaa.\"), HumanMessage(content='What kind of animals are they?'), AIMessage(content='Timon and Pumbaa are a meerkat and a warthog, respectively.')]\n"
     ]
    }
   ],
   "source": [
    "question = \"What kind of animals are they?\"\n",
    "result = chatbot({\"question\": question})\n",
    "print(result['answer'])\n",
    "print(\"----------------------------------------\")\n",
    "print(result['chat_history'])"
   ]
  },
  {
   "cell_type": "code",
   "execution_count": 9,
   "id": "4c35190f-8726-4eea-9d3f-27351c05b662",
   "metadata": {},
   "outputs": [
    {
     "name": "stdout",
     "output_type": "stream",
     "text": [
      "The main hyenas that ally with Scar are Shenzi, Banzai, and Ed.\n",
      "----------------------------------------\n",
      "[HumanMessage(content=\"How many spider people are in 'Into the Spiderverse?'\"), AIMessage(content=\"There are multiple spider people in 'Into the Spiderverse,' but the exact number is not specified in the given context.\"), HumanMessage(content=\"How many spider people are in 'Into the Spiderverse?'\"), AIMessage(content=\"The exact number of Spider people in 'Into the Spiderverse' is six.\"), HumanMessage(content=\"How many spider people are in 'Into the Spiderverse?'\"), AIMessage(content=\"The exact number of Spider people in 'Into the Spiderverse' is six.\"), HumanMessage(content='Who is Nala?'), AIMessage(content='Nala is a character in the context provided. She is a friend of Simba and they have a playful interaction in the scene.'), HumanMessage(content=\"Who are Simba's friends?\"), AIMessage(content=\"Simba's friends are Timon and Pumbaa.\"), HumanMessage(content='What kind of animals are they?'), AIMessage(content='Timon and Pumbaa are a meerkat and a warthog, respectively.'), HumanMessage(content='Who are the main hyenas that ally with Scar?'), AIMessage(content='The main hyenas that ally with Scar are Shenzi, Banzai, and Ed.')]\n"
     ]
    }
   ],
   "source": [
    "question = \"Who are the main hyenas that ally with Scar?\"\n",
    "result = chatbot({\"question\": question})\n",
    "print(result['answer'])\n",
    "print(\"----------------------------------------\")\n",
    "print(result['chat_history'])"
   ]
  },
  {
   "cell_type": "code",
   "execution_count": null,
   "id": "f6274079-014a-49be-943b-d2b259596414",
   "metadata": {},
   "outputs": [],
   "source": []
  }
 ],
 "metadata": {
  "kernelspec": {
   "display_name": "Python 3 (ipykernel)",
   "language": "python",
   "name": "python3"
  },
  "language_info": {
   "codemirror_mode": {
    "name": "ipython",
    "version": 3
   },
   "file_extension": ".py",
   "mimetype": "text/x-python",
   "name": "python",
   "nbconvert_exporter": "python",
   "pygments_lexer": "ipython3",
   "version": "3.10.13"
  }
 },
 "nbformat": 4,
 "nbformat_minor": 5
}
